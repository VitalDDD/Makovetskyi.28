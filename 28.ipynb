{
 "cells": [
  {
   "cell_type": "code",
   "execution_count": 19,
   "id": "88d5b83c",
   "metadata": {},
   "outputs": [
    {
     "name": "stdout",
     "output_type": "stream",
     "text": [
      "Інтервальна оцінка для середньоквадратичного відхилення генеральної сукупності з надійністю 0.95:\n",
      "(1.351, 2.596)\n"
     ]
    }
   ],
   "source": [
    "# Перше завдання\n",
    "\n",
    "import numpy as np\n",
    "from scipy import stats\n",
    "\n",
    "# Вхідні дані\n",
    "data = np.array([1, 1, 2, 2, 2, 4, 4, 4, 4, 4, 4, 4, 4, 4, 4, 6, 6, 6, 7, 7])\n",
    "confidence_level = 0.95\n",
    "\n",
    "# Розмір вибірки\n",
    "n = len(data)\n",
    "\n",
    "# Середнє значення вибірки\n",
    "mean = np.mean(data)\n",
    "\n",
    "# Обчислення вибіркового середнього та стандартного відхилення\n",
    "sample_mean = np.mean(data)\n",
    "sample_std = np.std(data, ddof=1)\n",
    "\n",
    "# Інтервальна оцінка\n",
    "lower_bound = sample_std * np.sqrt(n - 1) / np.sqrt(chi2.ppf((1 + confidence_level) / 2, n - 1))\n",
    "upper_bound = sample_std * np.sqrt(n - 1) / np.sqrt(chi2.ppf((1 - confidence_level) / 2, n - 1))\n",
    "\n",
    "print(\"Інтервальна оцінка для середньоквадратичного відхилення генеральної сукупності з надійністю 0.95:\")\n",
    "print(\"({:.3f}, {:.3f})\".format(lower_bound, upper_bound))\n"
   ]
  },
  {
   "cell_type": "code",
   "execution_count": 44,
   "id": "8b902ca0",
   "metadata": {},
   "outputs": [
    {
     "name": "stdout",
     "output_type": "stream",
     "text": [
      "Ймовірність події A: 40.00%\n",
      "Інтервальна оцінка на рівні надійності 0.95: [30.40%, 49.60%]\n"
     ]
    }
   ],
   "source": [
    "# Друге завдання\n",
    "\n",
    "import math\n",
    "from scipy.stats import norm\n",
    "\n",
    "# Кількість повторних випробувань\n",
    "n = 100  \n",
    "# Кількість разів, коли подія A відбулась\n",
    "m = 40   \n",
    "\n",
    "# Оцінка ймовірності настання події A\n",
    "p = m / n  \n",
    "\n",
    "# Значення стандартного нормального розподілу для надійності 0.95 (коефіцієнт 0.975)\n",
    "z = norm.ppf(0.975) \n",
    "\n",
    "# Стандартна помилка\n",
    "se = math.sqrt(p * (1 - p) / n)  \n",
    "\n",
    "# Нижня та верхня межі довірчого інтервалу\n",
    "lower = p - z * se \n",
    "upper = p + z * se  \n",
    "\n",
    "print(\"Ймовірність події A: {:.2f}%\".format(p * 100))\n",
    "print(\"Інтервальна оцінка на рівні надійності 0.95: [{:.2f}%, {:.2f}%]\".format(lower * 100, upper * 100))\n"
   ]
  },
  {
   "cell_type": "code",
   "execution_count": 52,
   "id": "e984318d",
   "metadata": {},
   "outputs": [
    {
     "name": "stdout",
     "output_type": "stream",
     "text": [
      "Мінімальний об'єм вибірки: 166\n"
     ]
    }
   ],
   "source": [
    "# Третє завдання\n",
    "\n",
    "from scipy.stats import norm\n",
    "\n",
    "# Вхідні дані\n",
    "sigma = 3\n",
    "E = 0.6\n",
    "\n",
    "# Значення стандартного нормального розподілу для надійності 0.99 (коефіцієнт 0.995)\n",
    "Z = norm.ppf(0.995) \n",
    "\n",
    "# Розмір вибірки\n",
    "n = round(((Z ** 2) * (sigma ** 2)) / (E ** 2))\n",
    "print(\"Мінімальний об'єм вибірки:\", n)\n"
   ]
  },
  {
   "cell_type": "code",
   "execution_count": null,
   "id": "60a34b8b",
   "metadata": {},
   "outputs": [],
   "source": []
  }
 ],
 "metadata": {
  "kernelspec": {
   "display_name": "Python 3 (ipykernel)",
   "language": "python",
   "name": "python3"
  },
  "language_info": {
   "codemirror_mode": {
    "name": "ipython",
    "version": 3
   },
   "file_extension": ".py",
   "mimetype": "text/x-python",
   "name": "python",
   "nbconvert_exporter": "python",
   "pygments_lexer": "ipython3",
   "version": "3.9.13"
  }
 },
 "nbformat": 4,
 "nbformat_minor": 5
}
